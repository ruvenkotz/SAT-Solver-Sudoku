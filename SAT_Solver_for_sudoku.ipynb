{
  "nbformat": 4,
  "nbformat_minor": 0,
  "metadata": {
    "colab": {
      "name": "SAT Solver for sudoku",
      "provenance": [],
      "authorship_tag": "ABX9TyMsUDaAgwlwQtrFtH2+ih8h",
      "include_colab_link": true
    },
    "kernelspec": {
      "name": "python3",
      "display_name": "Python 3"
    },
    "language_info": {
      "name": "python"
    }
  },
  "cells": [
    {
      "cell_type": "markdown",
      "metadata": {
        "id": "view-in-github",
        "colab_type": "text"
      },
      "source": [
        "<a href=\"https://colab.research.google.com/github/ruvenkotz/SAT-Solver-Sudoku/blob/main/SAT_Solver_for_sudoku.ipynb\" target=\"_parent\"><img src=\"https://colab.research.google.com/assets/colab-badge.svg\" alt=\"Open In Colab\"/></a>"
      ]
    },
    {
      "cell_type": "markdown",
      "metadata": {
        "id": "QyBFCOBbm3yz"
      },
      "source": [
        "# **SAT solver for sudoku**"
      ]
    },
    {
      "cell_type": "code",
      "metadata": {
        "colab": {
          "base_uri": "https://localhost:8080/"
        },
        "id": "FElgRlxxmxyT",
        "outputId": "bda03de0-3483-493e-f556-cb0ca175a61a"
      },
      "source": [
        "!pip install python-sat"
      ],
      "execution_count": 1,
      "outputs": [
        {
          "output_type": "stream",
          "text": [
            "Collecting python-sat\n",
            "\u001b[?25l  Downloading https://files.pythonhosted.org/packages/9d/19/07b70980437b111997c90de71e63b4dc1388622bbe3baed5f2e6870acb20/python_sat-0.1.7.dev3-cp37-cp37m-manylinux2010_x86_64.whl (1.8MB)\n",
            "\r\u001b[K     |▏                               | 10kB 15.2MB/s eta 0:00:01\r\u001b[K     |▍                               | 20kB 20.0MB/s eta 0:00:01\r\u001b[K     |▋                               | 30kB 23.5MB/s eta 0:00:01\r\u001b[K     |▊                               | 40kB 26.4MB/s eta 0:00:01\r\u001b[K     |█                               | 51kB 29.0MB/s eta 0:00:01\r\u001b[K     |█▏                              | 61kB 30.4MB/s eta 0:00:01\r\u001b[K     |█▎                              | 71kB 31.7MB/s eta 0:00:01\r\u001b[K     |█▌                              | 81kB 33.0MB/s eta 0:00:01\r\u001b[K     |█▊                              | 92kB 33.6MB/s eta 0:00:01\r\u001b[K     |█▉                              | 102kB 33.2MB/s eta 0:00:01\r\u001b[K     |██                              | 112kB 33.2MB/s eta 0:00:01\r\u001b[K     |██▎                             | 122kB 33.2MB/s eta 0:00:01\r\u001b[K     |██▍                             | 133kB 33.2MB/s eta 0:00:01\r\u001b[K     |██▋                             | 143kB 33.2MB/s eta 0:00:01\r\u001b[K     |██▉                             | 153kB 33.2MB/s eta 0:00:01\r\u001b[K     |███                             | 163kB 33.2MB/s eta 0:00:01\r\u001b[K     |███▏                            | 174kB 33.2MB/s eta 0:00:01\r\u001b[K     |███▍                            | 184kB 33.2MB/s eta 0:00:01\r\u001b[K     |███▌                            | 194kB 33.2MB/s eta 0:00:01\r\u001b[K     |███▊                            | 204kB 33.2MB/s eta 0:00:01\r\u001b[K     |████                            | 215kB 33.2MB/s eta 0:00:01\r\u001b[K     |████                            | 225kB 33.2MB/s eta 0:00:01\r\u001b[K     |████▎                           | 235kB 33.2MB/s eta 0:00:01\r\u001b[K     |████▌                           | 245kB 33.2MB/s eta 0:00:01\r\u001b[K     |████▋                           | 256kB 33.2MB/s eta 0:00:01\r\u001b[K     |████▉                           | 266kB 33.2MB/s eta 0:00:01\r\u001b[K     |█████                           | 276kB 33.2MB/s eta 0:00:01\r\u001b[K     |█████▏                          | 286kB 33.2MB/s eta 0:00:01\r\u001b[K     |█████▍                          | 296kB 33.2MB/s eta 0:00:01\r\u001b[K     |█████▋                          | 307kB 33.2MB/s eta 0:00:01\r\u001b[K     |█████▉                          | 317kB 33.2MB/s eta 0:00:01\r\u001b[K     |██████                          | 327kB 33.2MB/s eta 0:00:01\r\u001b[K     |██████▏                         | 337kB 33.2MB/s eta 0:00:01\r\u001b[K     |██████▍                         | 348kB 33.2MB/s eta 0:00:01\r\u001b[K     |██████▌                         | 358kB 33.2MB/s eta 0:00:01\r\u001b[K     |██████▊                         | 368kB 33.2MB/s eta 0:00:01\r\u001b[K     |███████                         | 378kB 33.2MB/s eta 0:00:01\r\u001b[K     |███████                         | 389kB 33.2MB/s eta 0:00:01\r\u001b[K     |███████▎                        | 399kB 33.2MB/s eta 0:00:01\r\u001b[K     |███████▌                        | 409kB 33.2MB/s eta 0:00:01\r\u001b[K     |███████▋                        | 419kB 33.2MB/s eta 0:00:01\r\u001b[K     |███████▉                        | 430kB 33.2MB/s eta 0:00:01\r\u001b[K     |████████                        | 440kB 33.2MB/s eta 0:00:01\r\u001b[K     |████████▏                       | 450kB 33.2MB/s eta 0:00:01\r\u001b[K     |████████▍                       | 460kB 33.2MB/s eta 0:00:01\r\u001b[K     |████████▋                       | 471kB 33.2MB/s eta 0:00:01\r\u001b[K     |████████▊                       | 481kB 33.2MB/s eta 0:00:01\r\u001b[K     |█████████                       | 491kB 33.2MB/s eta 0:00:01\r\u001b[K     |█████████▏                      | 501kB 33.2MB/s eta 0:00:01\r\u001b[K     |█████████▎                      | 512kB 33.2MB/s eta 0:00:01\r\u001b[K     |█████████▌                      | 522kB 33.2MB/s eta 0:00:01\r\u001b[K     |█████████▊                      | 532kB 33.2MB/s eta 0:00:01\r\u001b[K     |█████████▉                      | 542kB 33.2MB/s eta 0:00:01\r\u001b[K     |██████████                      | 552kB 33.2MB/s eta 0:00:01\r\u001b[K     |██████████▎                     | 563kB 33.2MB/s eta 0:00:01\r\u001b[K     |██████████▍                     | 573kB 33.2MB/s eta 0:00:01\r\u001b[K     |██████████▋                     | 583kB 33.2MB/s eta 0:00:01\r\u001b[K     |██████████▉                     | 593kB 33.2MB/s eta 0:00:01\r\u001b[K     |███████████                     | 604kB 33.2MB/s eta 0:00:01\r\u001b[K     |███████████▏                    | 614kB 33.2MB/s eta 0:00:01\r\u001b[K     |███████████▍                    | 624kB 33.2MB/s eta 0:00:01\r\u001b[K     |███████████▋                    | 634kB 33.2MB/s eta 0:00:01\r\u001b[K     |███████████▊                    | 645kB 33.2MB/s eta 0:00:01\r\u001b[K     |████████████                    | 655kB 33.2MB/s eta 0:00:01\r\u001b[K     |████████████▏                   | 665kB 33.2MB/s eta 0:00:01\r\u001b[K     |████████████▎                   | 675kB 33.2MB/s eta 0:00:01\r\u001b[K     |████████████▌                   | 686kB 33.2MB/s eta 0:00:01\r\u001b[K     |████████████▊                   | 696kB 33.2MB/s eta 0:00:01\r\u001b[K     |████████████▉                   | 706kB 33.2MB/s eta 0:00:01\r\u001b[K     |█████████████                   | 716kB 33.2MB/s eta 0:00:01\r\u001b[K     |█████████████▎                  | 727kB 33.2MB/s eta 0:00:01\r\u001b[K     |█████████████▍                  | 737kB 33.2MB/s eta 0:00:01\r\u001b[K     |█████████████▋                  | 747kB 33.2MB/s eta 0:00:01\r\u001b[K     |█████████████▉                  | 757kB 33.2MB/s eta 0:00:01\r\u001b[K     |██████████████                  | 768kB 33.2MB/s eta 0:00:01\r\u001b[K     |██████████████▏                 | 778kB 33.2MB/s eta 0:00:01\r\u001b[K     |██████████████▍                 | 788kB 33.2MB/s eta 0:00:01\r\u001b[K     |██████████████▌                 | 798kB 33.2MB/s eta 0:00:01\r\u001b[K     |██████████████▊                 | 808kB 33.2MB/s eta 0:00:01\r\u001b[K     |███████████████                 | 819kB 33.2MB/s eta 0:00:01\r\u001b[K     |███████████████                 | 829kB 33.2MB/s eta 0:00:01\r\u001b[K     |███████████████▎                | 839kB 33.2MB/s eta 0:00:01\r\u001b[K     |███████████████▌                | 849kB 33.2MB/s eta 0:00:01\r\u001b[K     |███████████████▋                | 860kB 33.2MB/s eta 0:00:01\r\u001b[K     |███████████████▉                | 870kB 33.2MB/s eta 0:00:01\r\u001b[K     |████████████████                | 880kB 33.2MB/s eta 0:00:01\r\u001b[K     |████████████████▎               | 890kB 33.2MB/s eta 0:00:01\r\u001b[K     |████████████████▍               | 901kB 33.2MB/s eta 0:00:01\r\u001b[K     |████████████████▋               | 911kB 33.2MB/s eta 0:00:01\r\u001b[K     |████████████████▉               | 921kB 33.2MB/s eta 0:00:01\r\u001b[K     |█████████████████               | 931kB 33.2MB/s eta 0:00:01\r\u001b[K     |█████████████████▏              | 942kB 33.2MB/s eta 0:00:01\r\u001b[K     |█████████████████▍              | 952kB 33.2MB/s eta 0:00:01\r\u001b[K     |█████████████████▌              | 962kB 33.2MB/s eta 0:00:01\r\u001b[K     |█████████████████▊              | 972kB 33.2MB/s eta 0:00:01\r\u001b[K     |██████████████████              | 983kB 33.2MB/s eta 0:00:01\r\u001b[K     |██████████████████              | 993kB 33.2MB/s eta 0:00:01\r\u001b[K     |██████████████████▎             | 1.0MB 33.2MB/s eta 0:00:01\r\u001b[K     |██████████████████▌             | 1.0MB 33.2MB/s eta 0:00:01\r\u001b[K     |██████████████████▋             | 1.0MB 33.2MB/s eta 0:00:01\r\u001b[K     |██████████████████▉             | 1.0MB 33.2MB/s eta 0:00:01\r\u001b[K     |███████████████████             | 1.0MB 33.2MB/s eta 0:00:01\r\u001b[K     |███████████████████▏            | 1.1MB 33.2MB/s eta 0:00:01\r\u001b[K     |███████████████████▍            | 1.1MB 33.2MB/s eta 0:00:01\r\u001b[K     |███████████████████▋            | 1.1MB 33.2MB/s eta 0:00:01\r\u001b[K     |███████████████████▊            | 1.1MB 33.2MB/s eta 0:00:01\r\u001b[K     |████████████████████            | 1.1MB 33.2MB/s eta 0:00:01\r\u001b[K     |████████████████████▏           | 1.1MB 33.2MB/s eta 0:00:01\r\u001b[K     |████████████████████▎           | 1.1MB 33.2MB/s eta 0:00:01\r\u001b[K     |████████████████████▌           | 1.1MB 33.2MB/s eta 0:00:01\r\u001b[K     |████████████████████▊           | 1.1MB 33.2MB/s eta 0:00:01\r\u001b[K     |████████████████████▉           | 1.1MB 33.2MB/s eta 0:00:01\r\u001b[K     |█████████████████████           | 1.2MB 33.2MB/s eta 0:00:01\r\u001b[K     |█████████████████████▎          | 1.2MB 33.2MB/s eta 0:00:01\r\u001b[K     |█████████████████████▌          | 1.2MB 33.2MB/s eta 0:00:01\r\u001b[K     |█████████████████████▋          | 1.2MB 33.2MB/s eta 0:00:01\r\u001b[K     |█████████████████████▉          | 1.2MB 33.2MB/s eta 0:00:01\r\u001b[K     |██████████████████████          | 1.2MB 33.2MB/s eta 0:00:01\r\u001b[K     |██████████████████████▏         | 1.2MB 33.2MB/s eta 0:00:01\r\u001b[K     |██████████████████████▍         | 1.2MB 33.2MB/s eta 0:00:01\r\u001b[K     |██████████████████████▋         | 1.2MB 33.2MB/s eta 0:00:01\r\u001b[K     |██████████████████████▊         | 1.2MB 33.2MB/s eta 0:00:01\r\u001b[K     |███████████████████████         | 1.3MB 33.2MB/s eta 0:00:01\r\u001b[K     |███████████████████████▏        | 1.3MB 33.2MB/s eta 0:00:01\r\u001b[K     |███████████████████████▎        | 1.3MB 33.2MB/s eta 0:00:01\r\u001b[K     |███████████████████████▌        | 1.3MB 33.2MB/s eta 0:00:01\r\u001b[K     |███████████████████████▊        | 1.3MB 33.2MB/s eta 0:00:01\r\u001b[K     |███████████████████████▉        | 1.3MB 33.2MB/s eta 0:00:01\r\u001b[K     |████████████████████████        | 1.3MB 33.2MB/s eta 0:00:01\r\u001b[K     |████████████████████████▎       | 1.3MB 33.2MB/s eta 0:00:01\r\u001b[K     |████████████████████████▍       | 1.3MB 33.2MB/s eta 0:00:01\r\u001b[K     |████████████████████████▋       | 1.4MB 33.2MB/s eta 0:00:01\r\u001b[K     |████████████████████████▉       | 1.4MB 33.2MB/s eta 0:00:01\r\u001b[K     |█████████████████████████       | 1.4MB 33.2MB/s eta 0:00:01\r\u001b[K     |█████████████████████████▏      | 1.4MB 33.2MB/s eta 0:00:01\r\u001b[K     |█████████████████████████▍      | 1.4MB 33.2MB/s eta 0:00:01\r\u001b[K     |█████████████████████████▌      | 1.4MB 33.2MB/s eta 0:00:01\r\u001b[K     |█████████████████████████▊      | 1.4MB 33.2MB/s eta 0:00:01\r\u001b[K     |██████████████████████████      | 1.4MB 33.2MB/s eta 0:00:01\r\u001b[K     |██████████████████████████      | 1.4MB 33.2MB/s eta 0:00:01\r\u001b[K     |██████████████████████████▎     | 1.4MB 33.2MB/s eta 0:00:01\r\u001b[K     |██████████████████████████▌     | 1.5MB 33.2MB/s eta 0:00:01\r\u001b[K     |██████████████████████████▊     | 1.5MB 33.2MB/s eta 0:00:01\r\u001b[K     |██████████████████████████▉     | 1.5MB 33.2MB/s eta 0:00:01\r\u001b[K     |███████████████████████████     | 1.5MB 33.2MB/s eta 0:00:01\r\u001b[K     |███████████████████████████▎    | 1.5MB 33.2MB/s eta 0:00:01\r\u001b[K     |███████████████████████████▍    | 1.5MB 33.2MB/s eta 0:00:01\r\u001b[K     |███████████████████████████▋    | 1.5MB 33.2MB/s eta 0:00:01\r\u001b[K     |███████████████████████████▉    | 1.5MB 33.2MB/s eta 0:00:01\r\u001b[K     |████████████████████████████    | 1.5MB 33.2MB/s eta 0:00:01\r\u001b[K     |████████████████████████████▏   | 1.5MB 33.2MB/s eta 0:00:01\r\u001b[K     |████████████████████████████▍   | 1.6MB 33.2MB/s eta 0:00:01\r\u001b[K     |████████████████████████████▌   | 1.6MB 33.2MB/s eta 0:00:01\r\u001b[K     |████████████████████████████▊   | 1.6MB 33.2MB/s eta 0:00:01\r\u001b[K     |█████████████████████████████   | 1.6MB 33.2MB/s eta 0:00:01\r\u001b[K     |█████████████████████████████   | 1.6MB 33.2MB/s eta 0:00:01\r\u001b[K     |█████████████████████████████▎  | 1.6MB 33.2MB/s eta 0:00:01\r\u001b[K     |█████████████████████████████▌  | 1.6MB 33.2MB/s eta 0:00:01\r\u001b[K     |█████████████████████████████▋  | 1.6MB 33.2MB/s eta 0:00:01\r\u001b[K     |█████████████████████████████▉  | 1.6MB 33.2MB/s eta 0:00:01\r\u001b[K     |██████████████████████████████  | 1.6MB 33.2MB/s eta 0:00:01\r\u001b[K     |██████████████████████████████▏ | 1.7MB 33.2MB/s eta 0:00:01\r\u001b[K     |██████████████████████████████▍ | 1.7MB 33.2MB/s eta 0:00:01\r\u001b[K     |██████████████████████████████▋ | 1.7MB 33.2MB/s eta 0:00:01\r\u001b[K     |██████████████████████████████▊ | 1.7MB 33.2MB/s eta 0:00:01\r\u001b[K     |███████████████████████████████ | 1.7MB 33.2MB/s eta 0:00:01\r\u001b[K     |███████████████████████████████▏| 1.7MB 33.2MB/s eta 0:00:01\r\u001b[K     |███████████████████████████████▎| 1.7MB 33.2MB/s eta 0:00:01\r\u001b[K     |███████████████████████████████▌| 1.7MB 33.2MB/s eta 0:00:01\r\u001b[K     |███████████████████████████████▊| 1.7MB 33.2MB/s eta 0:00:01\r\u001b[K     |███████████████████████████████▉| 1.8MB 33.2MB/s eta 0:00:01\r\u001b[K     |████████████████████████████████| 1.8MB 33.2MB/s \n",
            "\u001b[?25hRequirement already satisfied: six in /usr/local/lib/python3.7/dist-packages (from python-sat) (1.15.0)\n",
            "Installing collected packages: python-sat\n",
            "Successfully installed python-sat-0.1.7.dev3\n"
          ],
          "name": "stdout"
        }
      ]
    },
    {
      "cell_type": "code",
      "metadata": {
        "id": "yEgMpPxJoawt"
      },
      "source": [
        "n = 9 \n",
        "\n",
        "# we create a mapping from propositional symbol v_{x,(i, j)}\n",
        "# to variables indices in SAT solver.\n",
        "varmap = dict()\n",
        "# we also store the reverse mapping from variables \n",
        "# indices in SAT solver to propositional symbol v_{x,(i, j)}\n",
        "# so that we can later visualize the solution.\n",
        "mapback = dict()\n",
        "\n",
        "idx = 1\n",
        "for i in range(n):\n",
        "    for j in range(n):\n",
        "        for x in range(1, n+1):\n",
        "            varmap[(i, j, x)] = idx\n",
        "            mapback[idx] = (i, j, x)\n",
        "            idx += 1"
      ],
      "execution_count": 5,
      "outputs": []
    },
    {
      "cell_type": "code",
      "metadata": {
        "id": "pOVF5D6pnHXQ"
      },
      "source": [
        "import itertools\n",
        "\n",
        "#[row] creates row constraints \n",
        "# You can't have the same number in a row\n",
        "\n",
        "def row(solver, ivarmap, n):\n",
        "    for x in range(1, n+1):\n",
        "        for i in range(n):\n",
        "            in_row = [ivarmap[(i,j,x)] for j in range(n)]\n",
        "            # these are mutually exclusive constraints saying that\n",
        "            # each symbol appears *at most* once in the row.\n",
        "            for (c1, c2) in itertools.combinations(in_row, 2):\n",
        "                # no any pairs of variables can be true simultaneously\n",
        "                solver.add_clause([-c1, -c2])\n",
        "            # this is an at least 1 constraint saying that there\n",
        "            # has to be one symbol that appears in the row\n",
        "            solver.add_clause(in_row)\n",
        "\n",
        "#[column] creates column constraints \n",
        "# You can't have the same number in a column\n",
        "\n",
        "def column(solver, ivarmap, n):\n",
        "    for x in range(1, n+1):\n",
        "        for j in range(n):\n",
        "            in_column = [ivarmap[(i,j,x)] for i in range(n)]\n",
        "            for (c1, c2) in itertools.combinations(in_column, 2):\n",
        "                solver.add_clause([-c1, -c2])\n",
        "            solver.add_clause(in_column)\n",
        "\n",
        "#[square] creates blocks constraints \n",
        "# You can't have the same number in 3x3 box\n",
        "\n",
        "def square(solver, ivarmap, n):\n",
        "    sqrt_n = np.sqrt(n)\n",
        "    assert sqrt_n == int(sqrt_n)\n",
        "    sqrt_n = int(sqrt_n)\n",
        "    for x in range(1, n+1):\n",
        "        for i in range(0, n, sqrt_n):\n",
        "            for j in range(0, n, sqrt_n):\n",
        "                in_square = [ivarmap[(p,q,x)] \n",
        "                for p in range(i, i+sqrt_n) \n",
        "                for q in range(j, j+sqrt_n)]\n",
        "                for (c1, c2) in itertools.combinations(in_square, 2):\n",
        "                    solver.add_clause([-c1, -c2])\n",
        "                solver.add_clause(in_square)\n",
        "\n",
        "#[cell] creates cell constraints \n",
        "# You must have a number 1-9 in each cell\n",
        "\n",
        "def cell(solver, ivarmap):\n",
        "    for i in range(n):\n",
        "        for j in range(n):\n",
        "            in_cell = [ivarmap[(i,j,x)] for x in range(1, n+1)]\n",
        "            for (c1, c2) in itertools.combinations(in_cell, 2):\n",
        "                solver.add_clause([-c1, -c2])\n",
        "            solver.add_clause(in_cell)"
      ],
      "execution_count": 6,
      "outputs": []
    },
    {
      "cell_type": "code",
      "metadata": {
        "colab": {
          "base_uri": "https://localhost:8080/"
        },
        "id": "5Yb7qbD-nRvW",
        "outputId": "8141ff25-ffda-429c-f9d0-febbde7731b2"
      },
      "source": [
        "import numpy as np\n",
        "from pysat.solvers import Minisat22\n",
        "\n",
        "\n",
        "s = Minisat22()\n",
        "\n",
        "# Adding the constraints\n",
        "row(s, varmap, n)\n",
        "column(s, varmap, n)\n",
        "square(s, varmap, n)\n",
        "cell(s, varmap)\n",
        "\n",
        "# Defining the starting board\n",
        "puzzle =  np.matrix([[0,7,0,0,0,0,0,0,0],\n",
        "                     [0,8,0,4,0,0,0,7,0],\n",
        "                     [0,0,0,0,5,3,0,4,0],\n",
        "                     [0,0,9,1,0,0,7,3,0],\n",
        "                     [7,0,0,0,0,2,0,0,0],\n",
        "                     [0,0,0,0,0,4,9,0,2],\n",
        "                     [5,0,0,0,0,9,8,0,0],\n",
        "                     [0,0,4,5,0,0,0,0,0],\n",
        "                     [1,0,3,0,2,0,0,0,4]])\n",
        "\n",
        "# [start] adds each of the starting board numbers as a constraint \n",
        "def start(solver, ivarmap):\n",
        "    for i in range(n):\n",
        "        for j in range(n):\n",
        "          for x in range(1,n+1):\n",
        "            if puzzle[i,j] == x:\n",
        "              c = ivarmap[(i,j,x)]\n",
        "              solver.add_clause([c])\n",
        "\n",
        "\n",
        "#[get_solution] outputs one possible solution \n",
        "# We have to figure out if the solution is unique\n",
        "def get_solution(imodel, imapback):\n",
        "  for i in range(len(imodel)):\n",
        "    if imodel[i] > 0:\n",
        "      x, y, val = imapback[i+1]\n",
        "      puzzle[x, y] = val\n",
        "  return puzzle \n",
        "\n",
        "\n",
        "#[new_solution] adds the solution as a constraint\n",
        "# The new solution can't be the old solution\n",
        "def new_solution(solver, ivarmap):\n",
        "    for i in range(n):\n",
        "        for j in range(n):\n",
        "          for x in range(1,n+1):\n",
        "            if solution[i,j] == x:\n",
        "              c = ivarmap[(i,j,x)]\n",
        "              solver.add_clause([-c])\n",
        "\n",
        "\n",
        "s = Minisat22()\n",
        "# We add the constraints\n",
        "row(s, varmap, n)\n",
        "column(s, varmap, n)\n",
        "square(s, varmap, n)\n",
        "cell(s, varmap)\n",
        "start(s,varmap)\n",
        "    \n",
        "#Solve once to find a solution\n",
        "cell(s, varmap)\n",
        "s.solve()\n",
        "model = s.get_model()\n",
        "if(model != None):\n",
        "  solution = get_solution(model, mapback)\n",
        "  print(solution)\n",
        "\n",
        "\n",
        "# We add the solution as a constraint \n",
        "# and see if there is a second possible solution\n",
        "new_solution(s,varmap)\n",
        "cell(s, varmap)\n",
        "s.solve()\n",
        "model_2 = s.get_model()\n",
        "if(model_2 == None):\n",
        " print(\"There is no other solution\")\n"
      ],
      "execution_count": 13,
      "outputs": [
        {
          "output_type": "stream",
          "text": [
            "[[4 7 5 2 1 8 3 6 9]\n",
            " [3 8 2 4 9 6 1 7 5]\n",
            " [9 1 6 7 5 3 2 4 8]\n",
            " [2 4 9 1 8 5 7 3 6]\n",
            " [7 3 8 9 6 2 4 5 1]\n",
            " [6 5 1 3 7 4 9 8 2]\n",
            " [5 2 7 6 4 9 8 1 3]\n",
            " [8 9 4 5 3 1 6 2 7]\n",
            " [1 6 3 8 2 7 5 9 4]]\n",
            "There is no other solution\n"
          ],
          "name": "stdout"
        }
      ]
    }
  ]
}